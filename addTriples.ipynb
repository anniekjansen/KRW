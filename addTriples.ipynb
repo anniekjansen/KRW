{
 "cells": [
  {
   "cell_type": "code",
   "execution_count": 1,
   "metadata": {},
   "outputs": [
    {
     "name": "stdout",
     "output_type": "stream",
     "text": [
      "Requirement already satisfied: rdflib in c:\\users\\aejja\\appdata\\local\\programs\\python\\python310\\lib\\site-packages (6.1.1)\n",
      "Requirement already satisfied: setuptools in c:\\users\\aejja\\appdata\\local\\programs\\python\\python310\\lib\\site-packages (from rdflib) (58.1.0)\n",
      "Requirement already satisfied: pyparsing in c:\\users\\aejja\\appdata\\local\\programs\\python\\python310\\lib\\site-packages (from rdflib) (3.0.7)\n",
      "Requirement already satisfied: isodate in c:\\users\\aejja\\appdata\\local\\programs\\python\\python310\\lib\\site-packages (from rdflib) (0.6.1)\n",
      "Requirement already satisfied: six in c:\\users\\aejja\\appdata\\roaming\\python\\python310\\site-packages (from isodate->rdflib) (1.16.0)\n"
     ]
    },
    {
     "name": "stderr",
     "output_type": "stream",
     "text": [
      "WARNING: You are using pip version 21.2.4; however, version 22.0.4 is available.\n",
      "You should consider upgrading via the 'C:\\Users\\aejja\\AppData\\Local\\Programs\\Python\\Python310\\python.exe -m pip install --upgrade pip' command.\n"
     ]
    }
   ],
   "source": [
    "import sys\n",
    "!{sys.executable} -m pip install rdflib\n",
    "\n",
    "from rdflib import Graph, ConjunctiveGraph, Literal, BNode, Namespace, RDF, URIRef, RDFS\n",
    "from rdflib.namespace import DC, FOAF\n",
    "\n",
    "import pprint"
   ]
  },
  {
   "cell_type": "code",
   "execution_count": 2,
   "metadata": {},
   "outputs": [
    {
     "data": {
      "text/plain": [
       "<Graph identifier=Nae2888ad7852489da9ccca66800b7358 (<class 'rdflib.graph.Graph'>)>"
      ]
     },
     "execution_count": 2,
     "metadata": {},
     "output_type": "execute_result"
    }
   ],
   "source": [
    "g = Graph()\n",
    "g.parse(\"object_ontology.ttl\", format='ttl')"
   ]
  },
  {
   "cell_type": "code",
   "execution_count": 3,
   "metadata": {},
   "outputs": [],
   "source": [
    "import os\n",
    "\n",
    "path_fruits = './iconic-images-and-descriptions/Fruit'\n",
    "path_vegetables = './iconic-images-and-descriptions/Vegetables'\n",
    "path_packages = './iconic-images-and-descriptions/Packages'\n",
    "\n",
    "def get_subdirectories(a_dir):\n",
    "    return [name for name in os.listdir(a_dir) if os.path.isdir(os.path.join(a_dir, name))]\n",
    "\n",
    "fruits = get_subdirectories(path_fruits)\n",
    "vegetables = get_subdirectories(path_vegetables)\n",
    "packages = get_subdirectories(path_packages)"
   ]
  },
  {
   "cell_type": "code",
   "execution_count": 4,
   "metadata": {},
   "outputs": [],
   "source": [
    "def get_objects(path, list):\n",
    "    objects = []\n",
    "    for i in list:\n",
    "        s = os.path.join(path + '/'+ i)\n",
    "        ii = get_subdirectories(s)\n",
    "        if ii == []:\n",
    "            with open(os.path.join(s + '/' + i + '_description.txt')) as f:\n",
    "                descr = f.read().split('\\n', 1)[0]\n",
    "                item = [i,descr]\n",
    "            objects.append(item)\n",
    "        else:\n",
    "            for x in ii:\n",
    "                with open(os.path.join(s + '/' + x + '/' + x + '_description.txt')) as f:\n",
    "                    descr = f.read().split('\\n', 1)[0] \n",
    "                    item = [x ,descr]\n",
    "                objects.append(item)\n",
    "    return objects\n",
    "\n",
    "fruit_objects = get_objects(path_fruits, fruits)\n",
    "vegetable_objects = get_objects(path_vegetables, vegetables)\n",
    "package_objects = get_objects(path_packages, packages)\n"
   ]
  },
  {
   "cell_type": "code",
   "execution_count": 5,
   "metadata": {},
   "outputs": [],
   "source": [
    "def check(objects):\n",
    "    for i in objects:\n",
    "        i[0] = i[0].replace(\"-\",\"\")\n",
    "\n",
    "check(fruit_objects)\n",
    "check(vegetable_objects)\n",
    "check(package_objects)"
   ]
  },
  {
   "cell_type": "code",
   "execution_count": 6,
   "metadata": {},
   "outputs": [
    {
     "name": "stderr",
     "output_type": "stream",
     "text": [
      "* Owlready2 * Warning: optimized Cython parser module 'owlready2_optimized' is not available, defaulting to slower Python implementation\n"
     ]
    }
   ],
   "source": [
    "## Uncomment if you do not have owlrl installed (you should have it installed from the RDFS tutorial)\n",
    "# import sys\n",
    "# !{sys.executable} -m pip install rdflib  owlready2 pandas\n",
    "\n",
    "import pandas as pd\n",
    "from rdflib import Graph, Literal, Namespace, RDF, URIRef, OWL\n",
    "from rdflib.namespace import DC, FOAF\n",
    "\n",
    "from owlready2 import *"
   ]
  },
  {
   "cell_type": "code",
   "execution_count": 7,
   "metadata": {},
   "outputs": [],
   "source": [
    "from rdflib import Namespace\n",
    "\n",
    "g.namespace_manager.bind('TRASH', URIRef('http://www.trashrobot.com/onto/'))\n",
    "\n",
    "TRASH = Namespace(\"http://www.trashrobot.com/onto/\")\n",
    "SKOS = Namespace(\"http://www.w3.org/2004/02/skos/core#\")\n",
    "\n",
    "def add_triples(objects, subClassOf):\n",
    "    for x in objects:\n",
    "        g.add( (TRASH[x[0]], RDF.type, subClassOf) )\n",
    "        g.add( (TRASH[x[0]], SKOS.definition, Literal(x[1])) )\n",
    "\n",
    "add_triples(fruit_objects, TRASH.OrganicMaterial)\n",
    "add_triples(vegetable_objects, TRASH.OrganicMaterial)\n",
    "add_triples(package_objects, TRASH.PaperMaterial)"
   ]
  },
  {
   "cell_type": "code",
   "execution_count": 8,
   "metadata": {},
   "outputs": [
    {
     "data": {
      "text/plain": [
       "<Graph identifier=Nae2888ad7852489da9ccca66800b7358 (<class 'rdflib.graph.Graph'>)>"
      ]
     },
     "execution_count": 8,
     "metadata": {},
     "output_type": "execute_result"
    }
   ],
   "source": [
    "g.serialize(destination=\"ontology.ttl\")"
   ]
  }
 ],
 "metadata": {
  "interpreter": {
   "hash": "46a1fbaa711b4501beabf30152eaaecb721472da3facc8bcd5d1e75696ac0c9d"
  },
  "kernelspec": {
   "display_name": "Python 3.10.2 64-bit",
   "language": "python",
   "name": "python3"
  },
  "language_info": {
   "codemirror_mode": {
    "name": "ipython",
    "version": 3
   },
   "file_extension": ".py",
   "mimetype": "text/x-python",
   "name": "python",
   "nbconvert_exporter": "python",
   "pygments_lexer": "ipython3",
   "version": "3.10.2"
  },
  "orig_nbformat": 4
 },
 "nbformat": 4,
 "nbformat_minor": 2
}
