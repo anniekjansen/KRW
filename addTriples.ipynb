{
 "cells": [
  {
   "cell_type": "code",
   "execution_count": 31,
   "metadata": {},
   "outputs": [
    {
     "name": "stdout",
     "output_type": "stream",
     "text": [
      "Requirement already satisfied: rdflib in c:\\users\\aejja\\appdata\\local\\programs\\python\\python310\\lib\\site-packages (6.1.1)\n",
      "Requirement already satisfied: pyparsing in c:\\users\\aejja\\appdata\\local\\programs\\python\\python310\\lib\\site-packages (from rdflib) (3.0.7)\n",
      "Requirement already satisfied: isodate in c:\\users\\aejja\\appdata\\local\\programs\\python\\python310\\lib\\site-packages (from rdflib) (0.6.1)\n",
      "Requirement already satisfied: setuptools in c:\\users\\aejja\\appdata\\local\\programs\\python\\python310\\lib\\site-packages (from rdflib) (58.1.0)\n",
      "Requirement already satisfied: six in c:\\users\\aejja\\appdata\\roaming\\python\\python310\\site-packages (from isodate->rdflib) (1.16.0)\n"
     ]
    },
    {
     "name": "stderr",
     "output_type": "stream",
     "text": [
      "WARNING: You are using pip version 21.2.4; however, version 22.0.4 is available.\n",
      "You should consider upgrading via the 'C:\\Users\\aejja\\AppData\\Local\\Programs\\Python\\Python310\\python.exe -m pip install --upgrade pip' command.\n"
     ]
    }
   ],
   "source": [
    "import sys\n",
    "!{sys.executable} -m pip install rdflib\n",
    "\n",
    "from rdflib import Graph, ConjunctiveGraph, Literal, BNode, Namespace, RDF, URIRef, RDFS\n",
    "from rdflib.namespace import DC, FOAF\n",
    "\n",
    "import pprint"
   ]
  },
  {
   "cell_type": "code",
   "execution_count": 32,
   "metadata": {},
   "outputs": [
    {
     "data": {
      "text/plain": [
       "<Graph identifier=N53e9407e42ab411a82b28204beb50ae6 (<class 'rdflib.graph.Graph'>)>"
      ]
     },
     "execution_count": 32,
     "metadata": {},
     "output_type": "execute_result"
    }
   ],
   "source": [
    "g = Graph()\n",
    "g.parse(\"merged_ontology.ttl\", format='ttl')"
   ]
  },
  {
   "cell_type": "code",
   "execution_count": 33,
   "metadata": {},
   "outputs": [],
   "source": [
    "import os\n",
    "\n",
    "path_fruits = './iconic-images-and-descriptions/Fruit'\n",
    "path_vegetables = './iconic-images-and-descriptions/Vegetables'\n",
    "path_packages = './iconic-images-and-descriptions/Packages'\n",
    "\n",
    "def get_subdirectories(a_dir):\n",
    "    return [name for name in os.listdir(a_dir) if os.path.isdir(os.path.join(a_dir, name))]\n",
    "\n",
    "fruits = get_subdirectories(path_fruits)\n",
    "vegetables = get_subdirectories(path_vegetables)\n",
    "packages = get_subdirectories(path_packages)"
   ]
  },
  {
   "cell_type": "code",
   "execution_count": 34,
   "metadata": {},
   "outputs": [],
   "source": [
    "def get_objects(path, list):\n",
    "    objects = []\n",
    "    for i in list:\n",
    "        s = os.path.join(path + '/'+ i)\n",
    "        ii = get_subdirectories(s)\n",
    "        if ii == []:\n",
    "            with open(os.path.join(s + '/' + i + '_description.txt')) as f:\n",
    "                descr = f.read().split('\\n', 1)[0]\n",
    "                item = [i,descr]\n",
    "            objects.append(item)\n",
    "        else:\n",
    "            for x in ii:\n",
    "                with open(os.path.join(s + '/' + x + '/' + x + '_description.txt')) as f:\n",
    "                    descr = f.read().split('\\n', 1)[0] \n",
    "                    item = [x ,descr]\n",
    "                objects.append(item)\n",
    "    return objects\n",
    "\n",
    "fruit_objects = get_objects(path_fruits, fruits)\n",
    "vegetable_objects = get_objects(path_vegetables, vegetables)\n",
    "package_objects = get_objects(path_packages, packages)\n"
   ]
  },
  {
   "cell_type": "code",
   "execution_count": 35,
   "metadata": {},
   "outputs": [],
   "source": [
    "def check(objects):\n",
    "    for i in objects:\n",
    "        i[0] = i[0].replace(\"-\",\"\")\n",
    "\n",
    "check(fruit_objects)\n",
    "check(vegetable_objects)\n",
    "check(package_objects)"
   ]
  },
  {
   "cell_type": "code",
   "execution_count": 36,
   "metadata": {},
   "outputs": [],
   "source": [
    "## Uncomment if you do not have owlrl installed (you should have it installed from the RDFS tutorial)\n",
    "# import sys\n",
    "# !{sys.executable} -m pip install rdflib  owlready2 pandas\n",
    "\n",
    "import pandas as pd\n",
    "from rdflib import Graph, Literal, Namespace, RDF, URIRef, OWL\n",
    "from rdflib.namespace import DC, FOAF\n",
    "\n",
    "from owlready2 import *"
   ]
  },
  {
   "cell_type": "code",
   "execution_count": 37,
   "metadata": {},
   "outputs": [
    {
     "name": "stdout",
     "output_type": "stream",
     "text": [
      "[['GoldenDelicious', 'Golden Delicious has a white juicy pulp and a greenish yellow shell. The taste is mellow and sweet, making Golden Delicious suitable for desserts.'], ['GrannySmith', 'Granny Smith is a green apple with white, firm pulp and a clear acidity in the flavor.'], ['PinkLady', 'Pink Lady reminds of Royal Gala, though it is an even sweeter and crispier apple.'], ['RedDelicious', 'Red Delicious is a dark red apple with relatively soft pulp and sweet taste.'], ['RoyalGala', 'Royal Gala is a crispy and very juicy apple, with yellow-white pulp. The peel is thin with a red yellow speckled color.'], ['Avocado', 'Avocado is a fruit with a clear core in the middle. The pulp is light yellow and the peel may vary from light green to dark green, almost black. Avocado fits for starters, salads and as an ingredient in Guacamole.'], ['Banana', 'An ecologically grown banana. Bananas are good as snacks. The banana is temperature sensitive, very sensitive to dehydration, ethylene and cold damage. Store in room temperature or cool, never in a refrigerator.'], ['Kiwi', 'Kiwi, or Chinese currants, as it is also called, has a sweet taste with clear acidity. The fruit is rich in vitamin C.'], ['Lemon', 'Lemon is used as a flavor in food and drinks and has a very tart and sour taste.'], ['Lime', 'The lime fruit, like lemon, has sour taste, with the difference that the lime is more juicy and flavorsome than the lemon. It is mainly the juice you use but also the shell can be used.'], ['Mango', 'Mango has a fresh, powerful and sweet taste, but a special exotic shade. Inside there is a large, oval kernel in which the pulp is grown in. This makes the best way to cut mango is with the shell on. Divide the fruit by cutting along on both sides of the core. Mango can be eaten naturally or in desserts, entrees and main courses.'], ['Cantaloupe', 'The cantaloupe melon is a rather small and all round sugar melon, with a greenish yellow mesh patterned shell. The pulp is orange colored with juicy and sweet taste.'], ['GaliaMelon', 'Galia melon is a small round sugar melon with a yellowish green, orange, or light brown mesh patterned shell. The pulp is firm and juicy, with a cream white to yellowish green color and a sweet, rich flavor.'], ['HoneydewMelon', 'Honeydew melon is an oval shaped sugarmelon, with a yellow shell. The pulp is creamy light yellow with juicy, sweet and fresh taste, which is milder than other melons.'], ['Watermelon', 'Water melon juicier than sugar melons, and has a round peel with light green base color, with long-tied dark green stripes. The pulp is very juicy, mild and sweet, and occurs with and without kernels.'], ['Nectarine', 'The nectarine is a stone fruit with plain peel and yellow or orange pulp, which is somewhat firmer than the peach. Nectarine is suitable for eating naturally but can also be used for pastry, marmalade and jam.'], ['Orange', 'There are many different types of oranges that ripen and is sold during different parts of the year. The orange is a very important vitamin C source and the vitamins are best kept if the fruit is eaten naturally.'], ['Papaya', 'Papayan has a salmon-pink pulp that is buttery in the texture. The fruit is rich in vitamin A and C.'], ['PassionFruit', \"Passion fruit is a small, round or oval fruit with yellow or dark brownish purple dented shell. Passion fruit's interior consists of many small edible kernels surrounded by succulent pulp. The taste is rich and fresh, and reminiscent of raspberries and orange.\"], ['Peach', 'Peach is a stone fruit with yellow or orange pulp and velvety shell. Suitable for eating naturally but can also be used for pastry, marmalade and jam.'], ['Anjou', 'Anjou pear is a classic pear shaped with rounded stalk with a thin yellowish green shell. The pulp is juicy and has a sweet, nice taste. Anjou is an excellent table fruit that also fits in pastries, then rather unripe.'], ['Conference', 'Conference is a medium sized pear with long-tapered bottle like shape and a rounded base. To the color, the Conference pear is light greenish yellow with gold brown spots. Pears taste the most when they are really ripe. Suitable for desserts, cheese tray or to eat as it is.'], ['Kaiser', 'The Kaiser Pear is drip-shaped with matte, medium-thick, flaming yellow-brown or brownish shell. The yellowish white pulp is crispy, juicy and sweet, with some fresh acid. Kaiser pears match very well with dessert cheeses and wine, but it is also good to cook, as it retains its shape well.'], ['Pineapple', 'Pineapple fits well to be eaten naturally in for example desserts and fruit salad. Remember to remove the log in the middle.'], ['Plum', 'Ripe plums have soft and juicy pulp with sweet taste. Suitable for being eaten naturally, but is also used for preserving and pastries.'], ['Pomegranate', 'Pomegranate has a sweet, gentle and refreshing taste, making pomegranate suitable for salads and desserts. It is only the kernels of the fruit that you eat. These are taken out by first cutting around the apple without destroying the core. Then turn both halves in opposite directions until they loosen. Finally, the kernels are loosened by knocking a wooden slab on the shell of the half, preferably over a bowl.'], ['RedGrapefruit', 'The red grapefruit has a red pulp and a slightly pink colored peel. The taste is characteristically bitter, but at the same time fresh and sour. The red grapefruit is sweeter than the blonde grapefruit.'], ['Satsumas', 'Satsumas is a sweet and small type of citrus fruit. The fruit is popular as a snack.']]\n"
     ]
    }
   ],
   "source": [
    "print(fruit_objects)"
   ]
  },
  {
   "cell_type": "code",
   "execution_count": 38,
   "metadata": {},
   "outputs": [],
   "source": [
    "from rdflib import Namespace\n",
    "\n",
    "g.namespace_manager.bind('TRASH', URIRef('http://www.trashrobot.com/onto/'))\n",
    "\n",
    "TRASH = Namespace(\"http://www.trashrobot.com/onto/\")\n",
    "SKOS = Namespace(\"http://www.w3.org/2004/02/skos/core#\")\n",
    "\n",
    "def add_triples(objects, subClassOf):\n",
    "    for x in objects:\n",
    "        g.add( (TRASH[x[0]], RDF.type, subClassOf) )\n",
    "        g.add( (TRASH[x[0]], SKOS.definition, Literal(x[1])) )\n",
    "\n",
    "add_triples(fruit_objects, TRASH.OrganicMaterial)\n",
    "add_triples(vegetable_objects, TRASH.OrganicMaterial)\n",
    "add_triples(package_objects, TRASH.PaperMaterial)"
   ]
  },
  {
   "cell_type": "code",
   "execution_count": 39,
   "metadata": {},
   "outputs": [
    {
     "data": {
      "text/plain": [
       "<Graph identifier=N53e9407e42ab411a82b28204beb50ae6 (<class 'rdflib.graph.Graph'>)>"
      ]
     },
     "execution_count": 39,
     "metadata": {},
     "output_type": "execute_result"
    }
   ],
   "source": [
    "g.serialize(destination=\"ontology.ttl\")"
   ]
  },
  {
   "cell_type": "code",
   "execution_count": null,
   "metadata": {},
   "outputs": [],
   "source": []
  }
 ],
 "metadata": {
  "interpreter": {
   "hash": "46a1fbaa711b4501beabf30152eaaecb721472da3facc8bcd5d1e75696ac0c9d"
  },
  "kernelspec": {
   "display_name": "Python 3.10.2 64-bit",
   "language": "python",
   "name": "python3"
  },
  "language_info": {
   "codemirror_mode": {
    "name": "ipython",
    "version": 3
   },
   "file_extension": ".py",
   "mimetype": "text/x-python",
   "name": "python",
   "nbconvert_exporter": "python",
   "pygments_lexer": "ipython3",
   "version": "3.10.2"
  },
  "orig_nbformat": 4
 },
 "nbformat": 4,
 "nbformat_minor": 2
}
